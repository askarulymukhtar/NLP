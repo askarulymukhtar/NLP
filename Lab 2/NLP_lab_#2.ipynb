{
 "cells": [
  {
   "cell_type": "markdown",
   "metadata": {
    "ExecuteTime": {
     "end_time": "2020-02-12T17:56:22.948195Z",
     "start_time": "2020-02-12T17:56:22.944176Z"
    }
   },
   "source": [
    "### Lab 2: Hyponyms and Hypernyms"
   ]
  },
  {
   "cell_type": "code",
   "execution_count": 2,
   "metadata": {
    "ExecuteTime": {
     "end_time": "2020-02-12T14:12:16.470920Z",
     "start_time": "2020-02-12T14:12:15.640262Z"
    }
   },
   "outputs": [
    {
     "name": "stdout",
     "output_type": "stream",
     "text": [
      "12\n"
     ]
    }
   ],
   "source": [
    "import pandas as pd\n",
    "import wikipedia\n",
    "import os\n",
    "from tqdm import tqdm\n",
    "from joblib import Parallel, delayed\n",
    "import multiprocessing\n",
    "import networkx as nx\n",
    "import matplotlib.pyplot as plt\n",
    "from collections import defaultdict\n",
    "from ipywidgets import interact, interactive, fixed, interact_manual,widgets\n",
    "from IPython.display import display\n",
    "import json\n",
    "num_cores = multiprocessing.cpu_count()\n",
    "print(num_cores)\n",
    "wikipedia.set_lang(\"ru\")\n",
    "# DATA_PATH_LIST = ['D:','src2','taxonomy-enrichment','data','training_data']\n",
    "DATA_PATH_LIST = ['.']\n",
    "EMBEDDING_MODEL_FILENAME = \"wiki_node2vec.bin\"\n",
    "DATA_PATH=\"/\".join(DATA_PATH_LIST+[\"training_nouns.tsv\"])\n",
    "df = pd.read_csv(DATA_PATH,sep='\\t')\n",
    "%matplotlib inline"
   ]
  },
  {
   "cell_type": "code",
   "execution_count": 3,
   "metadata": {
    "ExecuteTime": {
     "end_time": "2020-02-12T14:12:16.475780Z",
     "start_time": "2020-02-12T14:12:16.473114Z"
    }
   },
   "outputs": [],
   "source": [
    "def prestr(x):\n",
    "    return str(x).replace('\\\"','').replace(\"'\",'\"')"
   ]
  },
  {
   "cell_type": "code",
   "execution_count": 4,
   "metadata": {
    "ExecuteTime": {
     "end_time": "2020-02-12T14:12:16.685506Z",
     "start_time": "2020-02-12T14:12:16.477634Z"
    }
   },
   "outputs": [],
   "source": [
    "class DefDict(defaultdict):\n",
    "    def __missing__(self, key):\n",
    "        self[key] = key\n",
    "        return key\n",
    "    \n",
    "idx2syns = DefDict(lambda x:x)\n",
    "for val in df.values:\n",
    "    idx2syns[val[0]]=val[1]\n",
    "    try:\n",
    "        pidxs = json.loads(prestr(val[2]))\n",
    "        concp = [el.split(\",\")[0] for el in json.loads(prestr(val[3]))]\n",
    "        idx2syns.update(dict(zip(pidxs,concp)))\n",
    "    except:\n",
    "        print(prestr(val[2]))\n",
    "        print(prestr(val[3]))"
   ]
  },
  {
   "cell_type": "markdown",
   "metadata": {
    "ExecuteTime": {
     "end_time": "2020-02-12T17:12:34.060220Z",
     "start_time": "2020-02-12T17:12:34.055235Z"
    }
   },
   "source": [
    "### Interactive visualization of hyponyms and hypernyms"
   ]
  },
  {
   "cell_type": "code",
   "execution_count": 5,
   "metadata": {
    "ExecuteTime": {
     "end_time": "2020-02-12T17:11:37.966489Z",
     "start_time": "2020-02-12T17:11:37.931688Z"
    }
   },
   "outputs": [
    {
     "data": {
      "application/vnd.jupyter.widget-view+json": {
       "model_id": "d357f16608b942248f4c021d33fc4d38",
       "version_major": 2,
       "version_minor": 0
      },
      "text/plain": [
       "Button(description='Draw', style=ButtonStyle())"
      ]
     },
     "metadata": {},
     "output_type": "display_data"
    },
    {
     "data": {
      "application/vnd.jupyter.widget-view+json": {
       "model_id": "116ef48f1f7241ceb00cbd00027bba4a",
       "version_major": 2,
       "version_minor": 0
      },
      "text/plain": [
       "Text(value='МАТЬ', description='String:', placeholder='Query')"
      ]
     },
     "metadata": {},
     "output_type": "display_data"
    }
   ],
   "source": [
    "button = widgets.Button(description=\"Draw\")\n",
    "query = widgets.Text(\n",
    "    value='МАТЬ',\n",
    "    placeholder='Query',\n",
    "    description='String:',\n",
    "    disabled=False\n",
    ")\n",
    "display(button,query)\n",
    "\n",
    "\n",
    "\n",
    "\n",
    "def creategraph(df):\n",
    "    res = []\n",
    "    for row in df.values:\n",
    "        cohyps = row[1].split(\",\")\n",
    "        for idx,cohyp in enumerate(cohyps):\n",
    "            for parent in json.loads(prestr(row[2])):\n",
    "                res.append((row[0]+'-'+str(idx),parent))\n",
    "    return res\n",
    "\n",
    "def graphdraw(b):\n",
    "    print(\"graphdraw\",query.value)\n",
    "    subset = df[df['TEXT'].str.contains(query.value.upper())]\n",
    "    g = nx.DiGraph()\n",
    "    for el in subset.values:\n",
    "        cohyps = el[1].split(\",\")\n",
    "        print(cohyps)\n",
    "        syns = idx2syns[el[0]]\n",
    "        for child in cohyps:\n",
    "            for parent in json.loads(prestr(el[2])):\n",
    "                ed = g.add_edge(child,idx2syns[parent],label=\"is a\")\n",
    "            \n",
    "    plt.figure(figsize=(15,15))\n",
    "    pos = nx.nx_agraph.graphviz_layout(g)\n",
    "    nx.draw(g,with_labels=True,pos=pos)\n",
    "#     edge_labels=nx.draw_networkx_edge_labels(g,pos=pos)\n",
    "    plt.show()\n",
    "button.on_click(graphdraw)"
   ]
  },
  {
   "cell_type": "markdown",
   "metadata": {
    "ExecuteTime": {
     "end_time": "2020-02-12T11:38:20.619158Z",
     "start_time": "2020-02-12T11:38:20.614734Z"
    }
   },
   "source": [
    "### Pattern extractor\n",
    "\n",
    "Yargy — библиотека для извлечения структурированной информации из текстов на русском языке. Правила описываются контекстно-свободными грамматиками и словарями ключевых слов. Банк готовых правил для имён, дат, адресов и других сущностей доступен в репозитории Natasha.\n",
    "* https://yargy.readthedocs.io/ru/latest/\n",
    "* http://pymorphy2.readthedocs.io/en/latest/user/grammemes.html\n",
    "* https://github.com/natasha/natasha"
   ]
  },
  {
   "cell_type": "markdown",
   "metadata": {
    "ExecuteTime": {
     "start_time": "2020-02-12T13:09:50.486Z"
    }
   },
   "source": [
    "### Токенизатор"
   ]
  },
  {
   "cell_type": "code",
   "execution_count": 7,
   "metadata": {
    "ExecuteTime": {
     "end_time": "2020-02-12T14:12:16.819980Z",
     "start_time": "2020-02-12T14:12:16.708109Z"
    }
   },
   "outputs": [
    {
     "name": "stdout",
     "output_type": "stream",
     "text": [
      "['Ростов', '-', 'на', '-', 'Дону']\n",
      "['Длительностью', '18', 'ч', '.', '10', 'мин', '.']\n",
      "['Яндекс', '.', 'Такси']\n",
      "['π', '≈', '3', '.', '1415']\n",
      "['1', '500', '000', '$']\n",
      "['http', ':', '/', '/', 'vk', '.', 'com']\n"
     ]
    }
   ],
   "source": [
    "from yargy.tokenizer import MorphTokenizer\n",
    "\n",
    "\n",
    "tokenizer = MorphTokenizer()\n",
    "text = '''Ростов-на-Дону\n",
    "Длительностью 18ч. 10мин.\n",
    "Яндекс.Такси\n",
    "π ≈ 3.1415\n",
    "1 500 000$\n",
    "http://vk.com\n",
    "'''\n",
    "for line in text.splitlines():\n",
    "    print([_.value for _ in tokenizer(line)])"
   ]
  },
  {
   "cell_type": "markdown",
   "metadata": {
    "ExecuteTime": {
     "end_time": "2020-02-12T13:11:56.582467Z",
     "start_time": "2020-02-12T13:11:56.566175Z"
    }
   },
   "source": [
    "# Газеттир\n",
    "Газеттир нужен для удобной работы с последовательностью слов. Например, можно написать:"
   ]
  },
  {
   "cell_type": "code",
   "execution_count": 8,
   "metadata": {
    "ExecuteTime": {
     "end_time": "2020-02-12T14:12:16.844412Z",
     "start_time": "2020-02-12T14:12:16.821582Z"
    }
   },
   "outputs": [],
   "source": [
    "from yargy import or_, rule\n",
    "from yargy.predicates import normalized\n",
    "\n",
    "RULE = or_(\n",
    "    rule(normalized('dvd'), '-', normalized('диск')),\n",
    "    rule(normalized('видео'), normalized('файл'))\n",
    ")"
   ]
  },
  {
   "cell_type": "code",
   "execution_count": 9,
   "metadata": {
    "ExecuteTime": {
     "end_time": "2020-02-12T14:12:16.968622Z",
     "start_time": "2020-02-12T14:12:16.846737Z"
    }
   },
   "outputs": [
    {
     "name": "stdout",
     "output_type": "stream",
     "text": [
      "['Видео', 'файл']\n",
      "['dvd', '-', 'диске']\n"
     ]
    }
   ],
   "source": [
    "from yargy import Parser\n",
    "from yargy.pipelines import morph_pipeline\n",
    "\n",
    "\n",
    "RULE = morph_pipeline([\n",
    "    'dvd-диск',\n",
    "    'видео файл',\n",
    "    'видеофильм',\n",
    "    'газета',\n",
    "    'электронный дневник',\n",
    "    'эссе',\n",
    "])\n",
    "\n",
    "parser = Parser(RULE)\n",
    "text = 'Видео файл на dvd-диске'\n",
    "for match in parser.findall(text):\n",
    "    print([_.value for _ in match.tokens])"
   ]
  },
  {
   "cell_type": "code",
   "execution_count": 10,
   "metadata": {
    "ExecuteTime": {
     "end_time": "2020-02-12T14:12:54.576104Z",
     "start_time": "2020-02-12T14:12:54.511149Z"
    }
   },
   "outputs": [
    {
     "name": "stdout",
     "output_type": "stream",
     "text": [
      "['Чеченской', 'республике']\n",
      "['Донецкая', 'народная', 'республика']\n"
     ]
    }
   ],
   "source": [
    "from yargy import Parser, rule, and_\n",
    "from yargy.predicates import gram, is_capitalized, dictionary\n",
    "\n",
    "\n",
    "GEO = rule(\n",
    "    and_(\n",
    "        gram('ADJF'),  # так помечается прилагательное, остальные пометки описаны в\n",
    "                       # http://pymorphy2.readthedocs.io/en/latest/user/grammemes.html\n",
    "        is_capitalized()\n",
    "    ),\n",
    "    gram('ADJF').optional().repeatable(),\n",
    "    dictionary({\n",
    "        'федерация',\n",
    "        'республика'\n",
    "    })\n",
    ")\n",
    "\n",
    "\n",
    "parser = Parser(GEO)\n",
    "text = '''\n",
    "В Чеченской республике на день рождения ...\n",
    "Донецкая народная республика провозгласила ...\n",
    "Башня Федерация — одна из самых высоких ...\n",
    "'''\n",
    "for match in parser.findall(text):\n",
    "    print([_.value for _ in match.tokens])"
   ]
  },
  {
   "cell_type": "markdown",
   "metadata": {
    "ExecuteTime": {
     "end_time": "2020-02-12T13:13:57.167613Z",
     "start_time": "2020-02-12T13:13:57.159920Z"
    }
   },
   "source": [
    "### Предикаты\n",
    "\n",
    "Предикат — функция, которая принимает на вход токен и возвращает True или False. В Yargy встроено много готовых предикатов. Полный список есть в справочнике. Предикаты комбинируются с помощью and_, or_ и not_."
   ]
  },
  {
   "cell_type": "code",
   "execution_count": 11,
   "metadata": {
    "ExecuteTime": {
     "end_time": "2020-02-12T14:12:17.173350Z",
     "start_time": "2020-02-12T14:12:17.136108Z"
    }
   },
   "outputs": [
    {
     "name": "stdout",
     "output_type": "stream",
     "text": [
      "True\n",
      "True\n"
     ]
    }
   ],
   "source": [
    "from yargy import and_, not_\n",
    "from yargy.tokenizer import MorphTokenizer\n",
    "from yargy.predicates import is_capitalized, eq\n",
    "\n",
    "\n",
    "tokenizer = MorphTokenizer()\n",
    "token = next(tokenizer('Стали'))\n",
    "\n",
    "predicate = is_capitalized()\n",
    "print(predicate(token))\n",
    "\n",
    "predicate = and_(\n",
    "    is_capitalized(),\n",
    "    not_(eq('марки'))\n",
    ")\n",
    "print(predicate(token))"
   ]
  },
  {
   "cell_type": "markdown",
   "metadata": {
    "ExecuteTime": {
     "end_time": "2020-02-12T13:15:56.600763Z",
     "start_time": "2020-02-12T13:15:56.596609Z"
    }
   },
   "source": [
    "### Грамматики\n",
    "В Yargy используется специальный DSL для описания грамматик. Любую контекстно-свободную грамматику можно описать с помощью конструкций Питона. Например, есть примитивная грамматика для размеров одежды:\n",
    "\n",
    "KEY -> р. | размер\n",
    "\n",
    "VALUE -> S | M | L\n",
    "\n",
    "SIZE -> KEY VALUE\n",
    "\n"
   ]
  },
  {
   "cell_type": "code",
   "execution_count": 12,
   "metadata": {
    "ExecuteTime": {
     "end_time": "2020-02-12T14:14:21.602988Z",
     "start_time": "2020-02-12T14:14:21.589310Z"
    }
   },
   "outputs": [
    {
     "data": {
      "text/plain": [
       "SIZE -> KEY VALUE\n",
       "KEY -> 'р' '.' | 'размер'\n",
       "VALUE -> 'S' | 'M' | 'L' | 'XS'\n"
      ]
     },
     "execution_count": 12,
     "metadata": {},
     "output_type": "execute_result"
    }
   ],
   "source": [
    "from yargy import rule, or_\n",
    "\n",
    "\n",
    "KEY = or_(\n",
    "    rule('р', '.'),\n",
    "    rule('размер')\n",
    ").named('KEY')\n",
    "VALUE = or_(\n",
    "    rule('S'),\n",
    "    rule('M'),\n",
    "    rule('L'),\n",
    "    rule('XS'),\n",
    ").named('VALUE')\n",
    "SIZE = rule(\n",
    "    KEY,\n",
    "    VALUE\n",
    ").named('SIZE')\n",
    "SIZE.normalized.as_bnf"
   ]
  },
  {
   "cell_type": "code",
   "execution_count": 13,
   "metadata": {
    "ExecuteTime": {
     "end_time": "2020-02-12T14:14:27.723857Z",
     "start_time": "2020-02-12T14:14:27.662113Z"
    }
   },
   "outputs": [
    {
     "name": "stdout",
     "output_type": "stream",
     "text": [
      "['размер', 'M']\n",
      "['размер', 'XS']\n"
     ]
    }
   ],
   "source": [
    "parser = Parser(\n",
    "    SIZE\n",
    ")\n",
    "text = 'размер M; размер A; размер XS;'\n",
    "for match in parser.findall(text):\n",
    "    print([_.value for _ in match.tokens])"
   ]
  },
  {
   "cell_type": "code",
   "execution_count": 14,
   "metadata": {
    "ExecuteTime": {
     "end_time": "2020-02-12T14:12:19.308726Z",
     "start_time": "2020-02-12T14:12:17.354354Z"
    }
   },
   "outputs": [
    {
     "ename": "ModuleNotFoundError",
     "evalue": "No module named 'gensim'",
     "output_type": "error",
     "traceback": [
      "\u001b[1;31m---------------------------------------------------------------------------\u001b[0m",
      "\u001b[1;31mModuleNotFoundError\u001b[0m                       Traceback (most recent call last)",
      "\u001b[1;32m<ipython-input-14-a04eb4f832c6>\u001b[0m in \u001b[0;36m<module>\u001b[1;34m\u001b[0m\n\u001b[0;32m      5\u001b[0m \u001b[1;32mimport\u001b[0m \u001b[0mpandas\u001b[0m \u001b[1;32mas\u001b[0m \u001b[0mpd\u001b[0m\u001b[1;33m\u001b[0m\u001b[1;33m\u001b[0m\u001b[0m\n\u001b[0;32m      6\u001b[0m \u001b[1;32mfrom\u001b[0m \u001b[0mtqdm\u001b[0m \u001b[1;32mimport\u001b[0m \u001b[0mtqdm_notebook\u001b[0m\u001b[1;33m\u001b[0m\u001b[1;33m\u001b[0m\u001b[0m\n\u001b[1;32m----> 7\u001b[1;33m \u001b[1;32mfrom\u001b[0m \u001b[0mgensim\u001b[0m \u001b[1;32mimport\u001b[0m \u001b[0mutils\u001b[0m\u001b[1;33m\u001b[0m\u001b[1;33m\u001b[0m\u001b[0m\n\u001b[0m",
      "\u001b[1;31mModuleNotFoundError\u001b[0m: No module named 'gensim'"
     ]
    }
   ],
   "source": [
    "from yargy import Parser, rule, and_, or_, not_\n",
    "from yargy.interpretation import fact, attribute\n",
    "from yargy.predicates import gram, is_capitalized, dictionary, eq\n",
    "import re\n",
    "import pandas as pd\n",
    "from tqdm import tqdm_notebook\n",
    "from gensim import utils"
   ]
  },
  {
   "cell_type": "code",
   "execution_count": 15,
   "metadata": {
    "ExecuteTime": {
     "end_time": "2020-02-12T14:12:19.323139Z",
     "start_time": "2020-02-12T14:12:19.310769Z"
    }
   },
   "outputs": [],
   "source": [
    "\n",
    "START = rule(\n",
    "    or_(\n",
    "        rule(gram('ADJF')),\n",
    "        rule(gram('NOUN'))\n",
    "    ).optional(),\n",
    "    gram('NOUN')\n",
    ")\n",
    "\n",
    "START_S = or_(\n",
    "    eq('такой'),\n",
    "    eq('такие'),\n",
    ")\n",
    "\n",
    "KAK = eq('как')\n",
    "INCLUDING = or_(\n",
    "    or_(\n",
    "        eq('в'),\n",
    "        eq('том'),\n",
    "        eq('числе'),\n",
    "    ),\n",
    "    eq('включающий'),\n",
    "    or_(\n",
    "        eq('включающий'),\n",
    "        eq('в'),\n",
    "        eq('себя'),\n",
    "    ),\n",
    "    or_(\n",
    "        eq('включающие'),\n",
    "        eq('в'),\n",
    "        eq('себя'),\n",
    "    ),\n",
    "    eq('включающие'),\n",
    "    eq('особенно'),\n",
    "\n",
    ")\n",
    "\n",
    "MID_S = or_(\n",
    "    rule(\n",
    "        or_(\n",
    "            eq('такой'),\n",
    "            eq('такие'),\n",
    "        ),\n",
    "        eq('как')\n",
    "    )\n",
    ")\n",
    "ATAKJE = rule(\n",
    "    eq(','),\n",
    "    eq('а'),\n",
    "    eq('также')\n",
    ")\n",
    "\n",
    "MID = or_(\n",
    "    rule(\n",
    "        eq('это')\n",
    "    ),\n",
    "    rule(\n",
    "        eq('—')\n",
    "    ),\n",
    "    rule(\n",
    "        eq('—'),\n",
    "        eq('это')\n",
    "    ),\n",
    "    rule(\n",
    "        eq('—'),\n",
    "        not_(eq('км'))\n",
    "    ),\n",
    "    rule(\n",
    "        or_(\n",
    "            eq('и'),\n",
    "            eq('или'),\n",
    "        ),\n",
    "        eq('другие')\n",
    "    )\n",
    ")\n",
    "\n",
    "END = or_(\n",
    "    rule(\n",
    "        gram('NOUN'),\n",
    "        gram('NOUN')\n",
    "    ),\n",
    "    rule(\n",
    "        gram('ADJF').repeatable(),\n",
    "        gram('NOUN')\n",
    "    ),\n",
    "    rule(\n",
    "        gram('ADJF'),\n",
    "        gram('ADJF').repeatable(),\n",
    "        gram('NOUN')\n",
    "    ),\n",
    "    rule(\n",
    "        gram('NOUN').repeatable(),\n",
    "        gram('ADJF'),\n",
    "        gram('NOUN').repeatable()\n",
    "    ),\n",
    "    rule(\n",
    "        gram('NOUN').repeatable()\n",
    "    )\n",
    ")\n",
    "\n",
    "Item = fact(\n",
    "    'Item',\n",
    "    [attribute('titles').repeatable()]\n",
    ")\n",
    "\n",
    "\n",
    "IGNORE = rule(\n",
    "    '(',\n",
    "    not_(eq(')')).repeatable(),\n",
    "    ')'\n",
    ")\n",
    "\n",
    "ITEM = rule(\n",
    "    IGNORE.interpretation(\n",
    "        Item.titles\n",
    "    ),\n",
    "    eq(',').optional() \n",
    ").repeatable().interpretation(\n",
    "    Item\n",
    ")"
   ]
  },
  {
   "cell_type": "code",
   "execution_count": 25,
   "metadata": {},
   "outputs": [],
   "source": [
    "from gensim import utils"
   ]
  },
  {
   "cell_type": "code",
   "execution_count": 26,
   "metadata": {
    "ExecuteTime": {
     "end_time": "2020-02-12T14:12:19.434702Z",
     "start_time": "2020-02-12T14:12:19.324707Z"
    }
   },
   "outputs": [],
   "source": [
    "def get_hyperonyms(main_word):\n",
    "    HYPONYM = eq(utils.deaccent(main_word))\n",
    "    RULE = or_(\n",
    "        rule(HYPONYM, ATAKJE, START, MID, END),\n",
    "        rule(HYPONYM, MID, END),\n",
    "        rule(START_S, END, KAK, HYPONYM),\n",
    "        rule(END, INCLUDING, HYPONYM)\n",
    "    )\n",
    "    parser = Parser(RULE) \n",
    "    text = utils.deaccent(wikipedia.summary(main_word))\n",
    "    print(text)\n",
    "    text = re.sub(r'\\(.+?\\)', '', text)\n",
    "    text = text.lower().replace('* сергии радонежскии* ', '')\n",
    "    for idx, match in enumerate(parser.findall(text.lower())):\n",
    "        k = [_.value for _ in match.tokens]\n",
    "        print(k)"
   ]
  },
  {
   "cell_type": "code",
   "execution_count": 28,
   "metadata": {
    "ExecuteTime": {
     "end_time": "2020-02-12T14:12:22.648500Z",
     "start_time": "2020-02-12T14:12:19.437840Z"
    }
   },
   "outputs": [
    {
     "name": "stdout",
     "output_type": "stream",
     "text": [
      "Банан — название съедобных плодов культивируемых растении рода Банан (Musa); обычно под таковыми понимают Musa acuminata и Musa × paradisiaca, а также Musa balbisiana, Musa fehi, Musa troglodytarum и ряд других. Также бананами могут называть плоды Ensete ventricosum (строго говоря, являющегося представителем другого рода семеиства Банановые). С ботаническои точки зрения банан является ягодои, многосеменнои и толстокожеи. У культурных форм часто отсутствуют семена, ненужные при вегетативном размножении. Плоды имеют длину 6—30 см и диаметр 2—5 см. Соплодия могут состоять из 300 плодов и иметь массу до 50—60 кг.\n",
      "Бананы — одна из древнеиших пищевых культур, а для тропических стран важнеишее пищевое растение и главная статья экспорта. Спелые бананы широко употребляются в пищу по всему миру, их используют при приготовлении большого количества блюд. Помимо употребления в свежем виде, в кухне некоторых народов бананы могут зажариваться, или вариться как в очищенном, так и в неочищенном виде. Их также сушат, консервируют, используют для приготовления банановои муки, мармелада, сиропов, вин. Бананы применяются также в качестве корма для скота. Запах бананов определяют изовалерианово-изоамиловыи и уксусно-изоамиловыи эфиры. Выращиваются в тропических и субтропических раионах с жарким влажным климатом. Существует большое число сортов съедобных видов банана.\n",
      "Размер, цвет и форма могут значительно различаться в зависимости от вида или сорта, но чаще всего они имеют продолговатую цилиндрическую или трехгранную форму, выпрямленную либо закругленную. Длина плода варьирует в пределах от 3 до 40 см, толщина — от 2 до 8 см. Цвет кожицы может быть желтым, зеленым, красным или даже серебристым. Мякоть белая, кремовая, желтая или оранжевая. В незрелом состоянии она твердая и клеикая, но по мере созревания становится мягкои и сочнои.\n",
      "Во многих странах бананы являются одним из основных источников питания — например, только в Эквадоре годовое потребление этого продукта составляет 73,8 кг на душу населения (для сравнения, в России этот показатель равен 7,29 кг). Существенную долю потребления бананы также составляют в Бурунди (189,4 кг), Самоа (85,0 кг), Коморских Островах (77,8 кг) и на Филиппинах (40,6 кг).\n",
      "['банан', '—', 'название', 'съедобных', 'плодов']\n"
     ]
    }
   ],
   "source": [
    "get_hyperonyms(\"банан\")"
   ]
  },
  {
   "cell_type": "markdown",
   "metadata": {},
   "source": [
    "#### Task 1 (deadline 19.02.2020 24:00)\n",
    "* Find your name on the spreadsheet https://docs.google.com/spreadsheets/d/1RR2I6toCkebbGU1UK83HS70Ru_l0_o-nnZIHyiFB0No/edit?usp=sharing. In opposite of your name there are 24 words of hyponyms, you have to insert five corresponding hypernyms next to them. Examples of hyponyms and hyperonyms relationship you can find above in the current Jupiter notebook.\n",
    "* Find for each pair of hyponyms and hypernyms a corresponding snippet of a text with their mentions. The source of the text can be any free resources, e.g., Wikipedia, Google, Yandex, others. You should save the snippets and their URLs within the lab2 folder in your NLP git-repo with .csv file-extension in a single file.\n",
    "\n",
    "#### Task 2 (deadline 26.02.2020 24:00)\n",
    "* It would be best if you created a pandas DataFrame of the texts from the previous task. And apply to the DataFrame the function 'get_hyperonyms,' which must return the list of the corresponding hypernyms from the text automatically. If there are errors or misses, you should fix them in the code for your case of the 24 words. Nevertheless, it is strictly prohibited to use hard coding. Save your notebook with parser code within the lab2 folder in your NLP git-repo."
   ]
  },
  {
   "cell_type": "code",
   "execution_count": 40,
   "metadata": {},
   "outputs": [
    {
     "data": {
      "text/html": [
       "<div>\n",
       "<style scoped>\n",
       "    .dataframe tbody tr th:only-of-type {\n",
       "        vertical-align: middle;\n",
       "    }\n",
       "\n",
       "    .dataframe tbody tr th {\n",
       "        vertical-align: top;\n",
       "    }\n",
       "\n",
       "    .dataframe thead th {\n",
       "        text-align: right;\n",
       "    }\n",
       "</style>\n",
       "<table border=\"1\" class=\"dataframe\">\n",
       "  <thead>\n",
       "    <tr style=\"text-align: right;\">\n",
       "      <th></th>\n",
       "      <th>HYPONYM</th>\n",
       "      <th>HYPERNYM</th>\n",
       "      <th>HYPERNYM.1</th>\n",
       "      <th>HYPERNYM.2</th>\n",
       "      <th>HYPERNYM.3</th>\n",
       "      <th>HYPERNYM.4</th>\n",
       "    </tr>\n",
       "  </thead>\n",
       "  <tbody>\n",
       "    <tr>\n",
       "      <td>0</td>\n",
       "      <td>АНТИЧАСТИЦА</td>\n",
       "      <td>Частица</td>\n",
       "      <td>Тело</td>\n",
       "      <td>природный объект</td>\n",
       "      <td>целое</td>\n",
       "      <td>обьект</td>\n",
       "    </tr>\n",
       "    <tr>\n",
       "      <td>1</td>\n",
       "      <td>АНТОНИМ</td>\n",
       "      <td>Слово</td>\n",
       "      <td>языковая единица</td>\n",
       "      <td>часть</td>\n",
       "      <td>связь</td>\n",
       "      <td>абстракция</td>\n",
       "    </tr>\n",
       "    <tr>\n",
       "      <td>2</td>\n",
       "      <td>АПАТРИД</td>\n",
       "      <td>условие</td>\n",
       "      <td>положение</td>\n",
       "      <td>аттрибут</td>\n",
       "      <td>абстракция</td>\n",
       "      <td>юридическое лицо</td>\n",
       "    </tr>\n",
       "    <tr>\n",
       "      <td>3</td>\n",
       "      <td>АПЕЛЛЯНТ</td>\n",
       "      <td>тяжущаяся сторона</td>\n",
       "      <td>участник</td>\n",
       "      <td>человек</td>\n",
       "      <td>возбудитель</td>\n",
       "      <td>физическое лицо</td>\n",
       "    </tr>\n",
       "    <tr>\n",
       "      <td>4</td>\n",
       "      <td>АПОКРИФ</td>\n",
       "      <td>священный текст</td>\n",
       "      <td>письмо</td>\n",
       "      <td>письменное сообщение</td>\n",
       "      <td>коммуникация</td>\n",
       "      <td>абстракция</td>\n",
       "    </tr>\n",
       "  </tbody>\n",
       "</table>\n",
       "</div>"
      ],
      "text/plain": [
       "       HYPONYM           HYPERNYM        HYPERNYM.1            HYPERNYM.2  \\\n",
       "0  АНТИЧАСТИЦА            Частица              Тело      природный объект   \n",
       "1      АНТОНИМ              Слово  языковая единица                 часть   \n",
       "2      АПАТРИД            условие         положение              аттрибут   \n",
       "3     АПЕЛЛЯНТ  тяжущаяся сторона          участник               человек   \n",
       "4      АПОКРИФ    священный текст            письмо  письменное сообщение   \n",
       "\n",
       "     HYPERNYM.3        HYPERNYM.4  \n",
       "0         целое            обьект  \n",
       "1         связь        абстракция  \n",
       "2    абстракция  юридическое лицо  \n",
       "3   возбудитель   физическое лицо  \n",
       "4  коммуникация        абстракция  "
      ]
     },
     "execution_count": 40,
     "metadata": {},
     "output_type": "execute_result"
    }
   ],
   "source": [
    "data = pd.read_excel('dataset.xlsx', shoot_name='sheet1')\n",
    "data.head()"
   ]
  },
  {
   "cell_type": "code",
   "execution_count": 41,
   "metadata": {},
   "outputs": [
    {
     "name": "stdout",
     "output_type": "stream",
     "text": [
      "Hypernym for word:  АНТИЧАСТИЦА\n",
      "\n",
      "\n",
      "Античастица — частица-двоиник некоторои другои элементарнои частицы, обладающая тои же массои и тем же спином, отличающаяся от нее знаками всех других характеристик взаимодеиствия (зарядов, таких как электрическии и цветовои заряды, барионное и лептонное квантовые числа).\n",
      "Само определение того, что называть «частицеи» в паре частица-античастица, в значительнои мере условно. Однако при данном выборе «частицы» ее античастица определяется однозначно. Сохранение барионного числа в процессах слабого взаимодеиствия позволяет по цепочке распадов барионов определить «частицу» в любои паре барион-антибарион. Выбор электрона как «частицы» в паре электрон-позитрон фиксирует (вследствие сохранения лептонного числа в процессах слабого взаимодеиствия) определение состояния «частицы» в паре электронных неитрино-антинеитрино. Переходы между лептонами различных поколении (типа \n",
      "  \n",
      "    \n",
      "      \n",
      "        μ\n",
      "        →\n",
      "        e\n",
      "      \n",
      "    \n",
      "    {\\displaystyle \\mu \\rightarrow e}\n",
      "  ) не наблюдались, так что определение «частицы» в каждом поколении лептонов, вообще говоря, может быть произведено независимо. Обычно по аналогии с электроном «частицами» называют отрицательно заряженные лептоны, что при сохранении лептонного числа определяет соответствующие неитрино и антинеитрино. Для бозонов понятие «частица» может фиксироваться определением, например, гиперзаряда.\n",
      "\n",
      "\n",
      "\n",
      "Hypernym for word:  АНТОНИМ\n",
      "\n",
      "\n",
      "Антонимы (др.-греч. αντι- приставка со значением противоположности + ονυμα — «имя») — это слова однои части речи, различные по звучанию и написанию, имеющие прямо противоположные лексические значения, например: «правда» — «ложь», «добрыи» — «злои», «говорить» — «молчать».\n",
      "Лексические единицы словарного состава языка оказываются тесно связанными не только на основании их ассоциативнои связи по сходству или смежности как лексико-семантические варианты многозначного слова. Большинство слов языка не содержит признака, способного к противопоставлению, следовательно, антонимические отношения для них невозможны, однако, в переносном значении они могут обрести антоним. Таким образом, в контекстуальнои антонимии антонимические отношения слов с прямым значением возможны, и тогда эти пары слов несут эмфатическую нагрузку и выполняют особую стилистическую функцию.\n",
      "Антонимы возможны у таких слов, значения которых заключают в себе противоположные качественные оттенки, но в основе значении всегда лежит общии признак (вес, рост, чувство, время суток и т. д.). Также противопоставлены могут быть только слова, принадлежащие к однои грамматическои или стилистическои категории. Следовательно, языковыми антонимами не могут стать слова, относящиеся к разным частям речи или лексическим уровням.\n",
      "У собственных имен, местоимении, числительных антонимов нет.\n",
      "\n",
      "\n",
      "\n",
      "Hypernym for word:  АПАТРИД\n",
      "\n",
      "\n",
      "Апатрид (от лат. apatris и др.-греч. α + πατρις) или лицо без гражданства — физическое лицо, не имеющее какого-либо гражданства или подданства и не обладающее доказательствами, которые могли бы установить принадлежность его к какому-либо гражданству или подданству.\n",
      "\n",
      "\n",
      "\n",
      "\n",
      "\n",
      "Hypernym for word:  АПЕЛЛЯНТ\n",
      "\n",
      "\n",
      "Ричард II Бордоскии (англ. Richard II of Bordeaux; 6 января 1367, Бордо, Аквитания — между 29 января и 14 февраля 1400, замок Понтефракт, Иоркшир, Англия) — король Англии в 1377—1399 годах, представитель династии Плантагенетов, внук короля Эдуарда III, сын Эдуарда Черного принца и Джоанны Плантагенет — Прекраснои Девы Кента. Став королем в десятилетнем возрасте, показал себя слабым и в то же время деспотичным правителем. Его расточительность и потворство фаворитам вызвали мятеж лордов-апеллянтов, с помощью парламента ограничивших полномочия монарха и фактически узурпировавших власть в Англии. Позднее король сумел освободиться от опеки и расправиться с апеллянтами, но в 1399 году был свергнут Генрихом Болингброком и заключен в замок Понтефракт, где вскоре умер.\n",
      "Ричард оставил заметныи след в истории Англии и ее культуре, а его свержение стало первым шагом к серии феодальных междоусобиц во второи половине XV века, известных как Воина Алои и Белои розы. Последние полтора года правления Ричарда изображены в пьесе Уильяма Шекспира «Ричард II», открывающеи серию исторических хроник, посвященных истории Англии конца XIV—XV веков.\n",
      "\n",
      "\n",
      "\n",
      "Hypernym for word:  АПОКРИФ\n",
      "\n",
      "\n",
      "Апокриф (от др.-греч. απο-κρυφος — «скрытыи, сокровенныи, таиныи» ← др.-греч. απο- — «приставка со значением: прошлого» + др.-греч. κρυφος, κρυφος, κρυπτος — «скрытыи») — произведение религиознои литературы (иудеискои и христианскои), посвященное по преимуществу событиям и лицам Священнои (ветхо- и новозаветнои) и церковнои истории, не включенное в канон Церковью (а ветхозаветныи апокриф — также и иудеискои синагогои). Такое понимание апокрифа применительно к ветхозаветным апокрифам используется в православии и католицизме. При этом в Русскои православнои церкви книги, не входящие в состав иудеиского канона, но входящие в состав Библии именуются не апокрифами, а неканоническими книгами.    \n",
      "В протестантизме и иудаизме термином «апокрифы» именуются так называемые неканонические (второканонические) книги, входящие в состав Ветхого Завета в православии и католицизме, но не входящие в евреискую Библию. Книги, называемые апокрифами в православии и католицизме, в протестантизме именуются псевдоэпиграфами. В даннои статье под апокрифами, если не оговорено особо, понимаются произведения, не входящие в состав Ветхого и Нового Завета в православии.\n",
      "Апокрифы как Нового, так и Ветхого заветов являются запрещенными для чтения в церкви. Клириков, которые используют их для чтения в храме, Христианская церковь лишает сана. Однако содержание апокрифов часто становилось Священным Преданием Христианскои церкви. Так, по мнению Владимира Лосского, источником Священного Предания могут быть и христианские апокрифы: «Церковь умеет извлечь из них то, что может полнить и иллюстрировать события, о которых умалчивает Писание, но которые Предание считает достоверными».\n",
      "\n",
      "\n",
      "\n",
      "Hypernym for word:  АПОЛИТИЧНОСТЬ\n",
      "\n",
      "\n",
      "Аполитичность, Аполитизм (с греч. — «а» — отрицательная частица + политика) — отрицательное или безразличное отношение к политике, к участию в общественнои жизни. Аполитичность характерна для общества, в котором ограничивается влияние широких масс на деятельность политиков, партии, государства и его учреждении. Одно из проявлении аполитичности — отказ значительного числа избирателеи от участия в выборах представительных органов, хотя иногда боикот выборов является и активнои политическои позициеи.\n",
      "\n",
      "\n",
      "\n",
      "Hypernym for word:  АПОСТИЛЬ\n",
      "\n",
      "\n",
      "Апостиль (фр. Apostille) — международная стандартизированная форма заполнения сведении о законности документа для предъявления на территории стран, признающих такую форму легализации.\n",
      "Штамп «Апостиль» ставится на оригиналы и копии документов.\n",
      "\n",
      "Апостиль не требует иного заверения или легализации документа и признается официальными органами всех государств-участников Конвенции. Апостиль может не использоваться, если существуют правовые основания, отменяющие или упрощающие легализацию документа.\n",
      "\n",
      "\n",
      "\n",
      "Hypernym for word:  АПОСТРОФ\n",
      "\n",
      "\n",
      "Апострoф (фр. apostrophe от др.-греч. αποστροφος — «обращенныи назад») — небуквенныи орфографическии знак в виде надстрочнои запятои (’), штриха или любого другого похожего начертания, которыи употребляется в буквенном письме разных языков в различном назначении.\n",
      "\n",
      "\n",
      "\n",
      "Hypernym for word:  АППЛИКАТОР\n",
      "\n",
      "\n",
      "Солевая грелка (саморазогревающаяся грелка, солевои аппликатор) — многоразовая химическая грелка, в основу работы которои положен эффект выделения тепла при изменении фазового состояния некоторых материалов, часто — кристаллизации солеи из перенасыщенного раствора. Могут использоваться не только для нагрева, но и для охлаждения.\n",
      "\n",
      "\n",
      "\n",
      "Hypernym for word:  АПСИДА\n",
      "\n",
      "\n",
      "Апсида (от др.-греч. αψις, αψιδος — свод), абсида (лат. absis) — примыкающии к основному объему пониженныи выступ здания, полукруглыи, граненыи, прямоугольныи или усложненныи в плане, перекрытыи полукуполом (конхои) или сомкнутым полусводом. Как правило, этим термином обозначаются алтарные объемы в церковнои архитектуре. Небольшои пониженныи выступ граненои или полукруглои формы, примыкающии к основному объему здания и не имеющии внутри себя алтаря, называется апсидиола. Впервые апсиды появились в древнеримских базиликах.\n",
      "\n"
     ]
    },
    {
     "name": "stdout",
     "output_type": "stream",
     "text": [
      "\n",
      "\n",
      "\n",
      "\n",
      "Hypernym for word:  АРБАЛЕТЧИК\n",
      "\n",
      "\n",
      "Арбалет (фр. arbalete от лат. arcaballista ← «arcus» — дуга и «ballisto» — бросаю), или самострел (греч. τζαγρα) — боевое и спортивное метательное оружие, представляющее собои лук, оснащенныи механизмами взведения и спуска тетивы.\n",
      "Арбалет, как правило, превосходил обычныи лук по точности стрельбы и убоинои силе, для обучения стрельбе из арбалета требовалось намного меньше времени. Но, за редким исключением, он сильно проигрывал луку по скорострельности. Для стрельбы из арбалета использовались болты — особые арбалетные стрелы, которые обычно были толще и короче лучных, и, иногда, пули. На воине использовались как ручные арбалеты, так и их увеличенные варианты, устанавливавшиеся на станках (нередко бывших подвижными) и использовавшиеся в качестве метательных машин; такие арбалеты назывались аркбалистами.\n",
      "\n",
      "\n",
      "\n",
      "Hypernym for word:  АРЕОПАГ\n",
      "\n",
      "\n",
      "Ареопаг (др.-греч. Αρειος παγος букв. «холм Ареса») — историческая местность (холм) в Афинах и орган власти в Древнеи Греции, собрания которого проходили на этом холме.\n",
      "Являлся местом проповеди апостола Павла афинянам (Деян. 17:19-34).\n",
      "\n",
      "\n",
      "\n",
      "Hypernym for word:  АРМАТУРЩИК\n",
      "\n",
      "\n",
      "Прораб (сокращение от «производитель работ») — должность руководителя среднего звена на строике.\n",
      "Прораб осуществляет руководство строительством на своем участке. Прораб обеспечивает выполнение задании по вводу объектов в эксплуатацию в установленные сроки, организует производство, обеспечивает соблюдение норм и правил техники безопасности и технологии производства, ведет учет выполненных работ, оформляет техническую документацию, участвует в сдаче объектов в эксплуатацию, устанавливает мастерам производственные задания по объемам строительно-монтажных и пусконаладочных работ, контролирует их выполнение. \n",
      "На должность производителя работ (прораба) назначается лицо, имеющее высшее профессиональное (техническое) образование и стаж работы в строительстве на инженерно-технических должностях не менее 3 лет или среднее профессиональное (техническое) образование и стаж работы в строительстве на инженерно-технических должностях не менее 5 лет.\n",
      "\n",
      "\n",
      "\n",
      "Hypernym for word:  АРТИКУЛЯЦИЯ\n",
      "\n",
      "\n",
      "Артикуляция (от лат. articulo — «расчленяю») — в фонетике, совокупность работ отдельных произносительных органов при образовании звуков речи. В произношении любого звука речи принимают то или иное участие все активные произносительные органы. Положение этих органов, необходимое для образования данного звука, образуют его артикуляцию, отделимость звуков, четкость их звучания.\n",
      "Стриктура является одним из способов образования, то есть определяющим фактором того, насколько близко органы речи приближаются друг к другу, создавая звуки. Параметры иначе, чем стриктура, участвуют в образовании одно- и многоударных, а также в шипящих фрикативах. Назализованность и произношение боковых согласных тоже считается способом образования согласных, но некоторые ученые, такие как Питер Ладефогед, считают их отдельным явлением.\n",
      "Артикуляция звука состоит из 3 этапов:\n",
      "\n",
      "Экскурсия — подготовка речевого аппарата к произнесению звука, или начало артикуляции;\n",
      "Выдержка — само произношение с сохранением положения органов, необходимого для произнесения;\n",
      "Рекурсия — окончание артикуляции, представляющее собои завершение звука, при котором органы речи меняют свое расположение для произнесения следующего звука или переходят в состояние покоя.В реальных условиях обычно произносятся не отдельные звуки, а речевая цепочка, тогда экскурсия следующего звука накладывается на рекурсию, а иногда и на выдержку предыдущего звука.\n",
      "\n",
      "\n",
      "\n",
      "Hypernym for word:  АРТРОСКОПИЯ\n",
      "\n",
      "\n",
      "Артроскопия (артроскопическая хирургия, англ. arthroscopy, arthroscopic surgery) — минимально инвазивная хирургическая манипуляция, осуществляемая в целях диагностики и/или лечения повреждении внутреннеи части сустава. Проводится с использованием артроскопа — разновидность эндоскопа, которыи вводится в сустав через микроразрез. Артроскопические манипуляции могут выполняться как для диагностики, так и для лечения многих ортопедических заболевании, включая «суставную мышь», разрыв поверхности хряща, разрыв переднеи крестообразнои связки и удаление поврежденного хряща.\n",
      "Преимущество артроскопии перед традиционнои открытои хирургиеи в том, что сустав не открывается полностью. Вместо этого, например, в артроскопии коленного сустава, делаются только два маленьких отверстия — одно для ввода артроскопа, другое для хирургических инструментов, при помощи которых может быть произведено полное или частичное удаление мениска. Это сокращает процесс послеоперационного восстановления и увеличивает шанс успеха проведения операции, так как степень повреждения соединительных тканеи намного ниже, чем в случае с открытои операциеи. Это особенно удобно для профессиональных спортсменов, которые часто сталкиваются с повреждениями коленных суставов и при этом должны быстро восстанавливаться. Также после артроскопии рубцы остаются менее заметными, благодаря незначительнои величине надрезов.\n",
      "При артроскопии хирурги вводят в суставную полость ирригационную жидкость, которая используется для размежевания суставов и организации пространства для проведения операции. Иногда эта жидкость может просочиться в окружающие мягкие ткани и вызвать кровоизлияние и отек.\n",
      "Хирургические инструменты, используемые в артроскопии, имеют меньшии размер, чем традиционные. Врачи, наблюдая область сустава на видеомониторе, могут диагностировать и оперировать разрывы тканеи сустава: связок, менисков и хрящеи.\n",
      "Технически возможно сделать артроскопическую диагностику почти любого сустава в организме человека. Чаще всего проводят артроскопию следующих суставов:\n",
      "\n",
      "Коленныи сустав\n",
      "Плечевои сустав\n",
      "Локтевои сустав\n",
      "лучезапястные суставы\n",
      "Тазобедренныи сустав\n",
      "голеностопныи сустав\n",
      "суставы стоп\n",
      "\n",
      "\n",
      "\n",
      "Hypernym for word:  АРТСКЛАД\n",
      "\n",
      "\n",
      "Первая конная армия (Конармия), 1 КА — высшее оперативное объединение кавалерии РККА, созданное во время Гражданскои воины в России 1918−1920 годов. Являлось основным мощным и маневренным средством в руках фронтового и Главного командования для решения оперативно-стратегических задач.\n",
      "\n",
      "\n",
      "\n",
      "Hypernym for word:  АРХАИЗАЦИЯ\n",
      "\n",
      "\n",
      "Портрет петровского времени — эпоха сложения в России жанра светского портретного искусства в годы правления Петра Великого.\n",
      "Начиная с Петровского времени, портрет в русском искусстве вышел на 1-е место по степени распространенности и качества. Портрет «фактически взял на себя основное бремя освоения художественных принципов Нового времени». В произведениях именно этого жанра апробируются неизвестные раньше творческие ходы — композиционные схемы, колористические приемы, стилевые установки. Одновременно с портретом развивались и другие жанры, необходимые абсолютистскому государству, — исторические и аллегорические композиции, благодаря которым русская культура входила в мир ранее незнакомои системы олицетворении. Именно в петровское время «отчетливо обозначились некоторые характерные особенности русского портрета».\n",
      "\n",
      "\n",
      "\n",
      "Hypernym for word:  АРЬЕРГАРД\n",
      "\n",
      "\n",
      "Арьергард (фр. arriere-garde — тыловая охрана) — термин, означающии в военном деле воиска прикрытия, выделяемые от соединении, сухопутных воиск или соединении сил флота, вооруженных сил государства при отступлении в период боевых деиствии.\n",
      "В некоторых случаях арьергард может выделяться при совершении марша от фронта в тыл. При отходе задача арьергарда — задержать наступающего противника, выиграть время, необходимое для отрыва главных сил, обеспечить их организованныи отход и занятие назначенного рубежа. Арьергард непрерывно ведет разведку с целью выявления состава, группировки и направления движения воиск противника.\n",
      "В ВМФ арьергардом называлась концевая эскадра или группа кораблеи в боевых порядках (соответственно флота или эскадры), следовавшая на некотором удалении от главных сил для их охранения с тыла. В общем строю флота или эскадры арьергард составляла их замыкающая часть (примерно 1/3 глубины строя).\n",
      "Начиная со Второи мировои воины, в связи с существенными изменениями в условиях и характере боевых деиствии на море, арьергард на флоте не применяется.\n",
      "\n",
      "\n",
      "\n",
      "Hypernym for word:  АСЕПТИКА\n",
      "\n",
      "\n",
      "Асептика — комплекс мероприятии, направленныи на предупреждение попадания микроорганизмов в рану.\n",
      "Асептика — способ предупреждения нагноения ран. Асептику следует отличать от антисептики, которая имеет цель уничтожить возбудителеи воспаления, уже имеющихся в ране, посредством определенных химических веществ, как карболовои кислоты, сулемы и др.\n",
      "Одним из основателеи асептики считается немецкии хирург Эрнст фон Бергманн. Он предложил физические методики обеззараживания — кипячение, обжигание, автоклавирование. Это произошло на X конгрессе хирургов в Берлине в 1890 г. Помимо них существует химическии способ и механическии.\n",
      "В конце 1880-х годов Н. В. Склифосовскии ввел при некоторых операциях стерилизованную повязку. Стерилизация перевязочных средств производилась вначале в небольшом аппарате при помощи нагретого воздуха. Вскоре асептическии метод им был перенесен из перевязочнои в операционную. Это открытие в хирургии, впервые примененное в клинике Склифосовского, явилось началом новои эры в медицинскои науке и практике. О том, что асептическии метод родился в клинике Склифосовского раньше, чем об этом заявил Бергманн с трибуны Международного конгресса в 1890 г., говорят данные отчета хирургическои клиники за 1890—1893 гг.При асептическом способе лечения ран пользуются исключительно обеспложеннои путем кипячения водои; весь перевязочныи материал и инструменты также обеспложиваются текучим паром или кипячением.\n",
      "Асептика применима до и во время операции на здоровых тканях, но неприменима там, где можно предполагать присутствие возбудителеи воспаления в ране.\n",
      "Асептика обладает несомненными преимуществами перед антисептикои в смысле результатов лечения, а также потому, что при асептическом способе лечения ран не бывает отравлении, которые возможны при применении некоторых антисептических средств. Благодаря проведенным асептическим мероприятиям значительно снижается нуждаемость в антисептиках в послеоперационныи период, что существенно снижает затраты на лечение.\n",
      "Асептика — метод предупреждения раневои инфекции. Профилактическое уничтожение микробов, предупреждение их попадания в рану. Соблюдение стерильности в ходе операции, стерилизация приборов, инструментов. Все что соприкасается с ранои должно быть стерильно.\n",
      "Основои асептики является стерилизация.\n",
      "Методы асептики: механическии, физическии, химическии, биологическии, комбинированныи .\n",
      "Способы стерилизации:\n",
      "\n",
      "паром под давлением (белье);\n",
      "кипячение (металлические инструменты, кроме режущих);\n",
      "суховоздушные шкафы (можно обжигать инструмент над пламенем);\n",
      "холодная стерилизация (погружение резиновых перчаток в хлорамин);\n"
     ]
    },
    {
     "name": "stdout",
     "output_type": "stream",
     "text": [
      "96 % этиловыи спирт (30 мин.).\n",
      "\n",
      "\n",
      "\n",
      "Hypernym for word:  АСКАРИДОЗ\n",
      "\n",
      "\n",
      "Аскаридоз (Ascaridosis) — кишечная инвазия из группы нематодозов, возбудителями которои являются аскариды (Ascaris lumbricoides). Аскариды паразитируют в тонкои кишке. Длина взрослого гельминта составляет 25 — 30 см.\n",
      "\n",
      "\n",
      "\n",
      "Hypernym for word:  АСПАРТАМ\n",
      "\n",
      "\n",
      "Аспартам (L-Аспартил-L-фенилаланин) — подсластитель, заменитель сахара, пищевая добавка E951. Был впервые синтезирован в 1965 году, срок патента закончился в 1987 году в Европе и 1992 году в США.\n",
      "\n",
      "\n",
      "\n",
      "Hypernym for word:  АСТЕНИЯ\n",
      "\n",
      "\n",
      "Астения (от др.-греч. ασθενεια — бессилие), астеническое состояние, астеническии синдром, астеническая реакция, нервно-психическая слабость, синдром хроническои усталости — болезненное состояние, проявляющееся повышеннои утомляемостью с краинеи неустоичивостью настроения, ослаблением самообладания, нетерпеливостью, неусидчивостью, нарушением сна, утратои способности к длительному умственному и физическому напряжению, непереносимостью громких звуков, яркого света, резких запахов. У больных также наблюдаются раздражительная слабость, выражающаяся повышеннои возбудимостью и быстро наступающеи вслед за неи истощаемостью, аффективная лабильность с преимущественно пониженным настроением с чертами капризности и неудовольствия, а также слезливостью, возможны расстроиства памяти.\n",
      "\n",
      "\n",
      "\n",
      "Hypernym for word:  АСТИГМАТИЗМ\n",
      "\n",
      "\n",
      "Астигматизм — дефект зрения, связанныи с нарушением формы хрусталика, роговицы или глаза, в результате чего человек теряет способность к четкому видению. Оптическими линзами сферическои формы дефект компенсируется не полностью. Если астигматизм не лечить, он может привести к амблиопии и резкому падению зрения. Без коррекции астигматизм может вызвать головные боли и резь в глазах.\n",
      "Является однои из разновидностеи аметропии.\n",
      "\n",
      "При астигматизме нарушение равномернои кривизны роговои оболочки глаза и/или хрусталика приводит к искажению зрения. Световые лучи не сходятся в однои точке на сетчатке, как это происходит в нормальном глазу, в результате на сетчатке формируется изображение точки в виде размытого эллипса, отрезка или «восьмерки». В некоторых случаях изображение вертикальных линии может казаться нечетким, в других горизонтальные или диагональные линии выявятся вне зоны фокусировки. Астигматизм часто развивается в раннем возрасте (обычно вместе с дальнозоркостью или близорукостью) и обычно сформировывается уже после первых лет жизни.\n",
      "Симптомами астигматизма является понижение зрения, иногда видение предметов искривленными, их раздвоение, быстрое утомление глаз при работе, головная боль. При одном из способов окончательное подтверждение получают после расширения зрачков раствором атропина и проведения скиаскопии (теневои пробы).\n",
      "Метод диагностики астигматизма изобрел французскии офтальмолог Эмиль Жаваль.\n",
      "\n",
      "Сложныи дальнозоркии А. — Compound hyperopic astigmatism\n",
      "Сложныи миопическии (близорукии) А. — Compound myopic astigmatism\n",
      "Смешанныи астигматизм — Mixed astigmatism\n",
      "\n",
      "\n",
      "\n"
     ]
    }
   ],
   "source": [
    "for word in list(data['HYPONYM']):\n",
    "    print('Hypernym for word: ', word)\n",
    "    print('\\n')\n",
    "    get_hyperonyms(word)\n",
    "    print('\\n\\n')"
   ]
  },
  {
   "cell_type": "code",
   "execution_count": null,
   "metadata": {},
   "outputs": [],
   "source": []
  }
 ],
 "metadata": {
  "kernelspec": {
   "display_name": "Python 3",
   "language": "python",
   "name": "python3"
  },
  "language_info": {
   "codemirror_mode": {
    "name": "ipython",
    "version": 3
   },
   "file_extension": ".py",
   "mimetype": "text/x-python",
   "name": "python",
   "nbconvert_exporter": "python",
   "pygments_lexer": "ipython3",
   "version": "3.7.4"
  }
 },
 "nbformat": 4,
 "nbformat_minor": 2
}
